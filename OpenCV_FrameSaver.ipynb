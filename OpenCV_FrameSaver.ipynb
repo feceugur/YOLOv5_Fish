{
  "nbformat": 4,
  "nbformat_minor": 0,
  "metadata": {
    "colab": {
      "provenance": [],
      "authorship_tag": "ABX9TyMVYGmNAzdbbunMLM5h8fU5",
      "include_colab_link": true
    },
    "kernelspec": {
      "name": "python3",
      "display_name": "Python 3"
    },
    "language_info": {
      "name": "python"
    }
  },
  "cells": [
    {
      "cell_type": "markdown",
      "metadata": {
        "id": "view-in-github",
        "colab_type": "text"
      },
      "source": [
        "<a href=\"https://colab.research.google.com/github/feceugur/YOLOv5_Fish/blob/main/OpenCV_FrameSaver.ipynb\" target=\"_parent\"><img src=\"https://colab.research.google.com/assets/colab-badge.svg\" alt=\"Open In Colab\"/></a>"
      ]
    },
    {
      "cell_type": "code",
      "source": [
        "from google.colab import drive\n",
        "drive.mount('/content/gdrive')"
      ],
      "metadata": {
        "colab": {
          "base_uri": "https://localhost:8080/"
        },
        "id": "I7YtKQVOiqK3",
        "outputId": "2d4bb2be-bb0c-4d5c-f929-7bf8d5078f1b"
      },
      "execution_count": 1,
      "outputs": [
        {
          "output_type": "stream",
          "name": "stdout",
          "text": [
            "Drive already mounted at /content/gdrive; to attempt to forcibly remount, call drive.mount(\"/content/gdrive\", force_remount=True).\n"
          ]
        }
      ]
    },
    {
      "cell_type": "code",
      "source": [
        "# change the path to where your notebook is located\n",
        "path = \"/Drive'ım/ColabNotebooks/OpenCV_Video\"\n",
        "%cd /content/gdrive/MyDrive/ColabNotebooks/OpenCV_Video/"
      ],
      "metadata": {
        "colab": {
          "base_uri": "https://localhost:8080/"
        },
        "id": "Y-cv0oqsisLI",
        "outputId": "294d53ee-dd42-4bfd-963a-3ef0f2c7a114"
      },
      "execution_count": 2,
      "outputs": [
        {
          "output_type": "stream",
          "name": "stdout",
          "text": [
            "/content/gdrive/MyDrive/ColabNotebooks/OpenCV_Video\n"
          ]
        }
      ]
    },
    {
      "cell_type": "code",
      "source": [
        "!ls"
      ],
      "metadata": {
        "colab": {
          "base_uri": "https://localhost:8080/"
        },
        "id": "3_FlzulRjbrj",
        "outputId": "bd8d6d27-26dd-4ddd-f2fe-c0ed2b9fb3d9"
      },
      "execution_count": 3,
      "outputs": [
        {
          "output_type": "stream",
          "name": "stdout",
          "text": [
            "data  gt_106.flv  gt_124.flv\n"
          ]
        }
      ]
    },
    {
      "cell_type": "code",
      "execution_count": 6,
      "metadata": {
        "id": "vqmk8s6yg-aE"
      },
      "outputs": [],
      "source": [
        "import cv2\n",
        "import os"
      ]
    },
    {
      "cell_type": "code",
      "source": [
        "cam = cv2.VideoCapture(\"gt_124.flv\")\n",
        "\n",
        "try:\n",
        "\n",
        "    # creating a folder named data\n",
        "    if not os.path.exists('data124'):\n",
        "        os.makedirs('data124')\n",
        "\n",
        "# if not created then raise error\n",
        "except OSError:\n",
        "    print ('Error: Creating directory of data')\n",
        "\n",
        "# frame\n",
        "currentframe = 0\n",
        "i = 0\n",
        "while(i < 150):\n",
        "\n",
        "    # reading from frame\n",
        "    ret,frame = cam.read()\n",
        "\n",
        "    if ret:\n",
        "        # if video is still left continue creating images\n",
        "        name = './data124/frame' + str(currentframe) + '.jpg'\n",
        "        print ('Creating...' + name)\n",
        "\n",
        "        # writing the extracted images\n",
        "        cv2.imwrite(name, frame)\n",
        "\n",
        "        # increasing counter so that it will\n",
        "        # show how many frames are created\n",
        "        currentframe += 500\n",
        "        i+=1\n",
        "    else:\n",
        "        break\n",
        "\n",
        "# Release all space and windows once done\n",
        "cam.release()\n",
        "cv2.destroyAllWindows()"
      ],
      "metadata": {
        "colab": {
          "base_uri": "https://localhost:8080/"
        },
        "id": "7B5DNQpmhAbH",
        "outputId": "83affcaf-06bb-45db-a3af-a1c6ea978661"
      },
      "execution_count": 10,
      "outputs": [
        {
          "output_type": "stream",
          "name": "stdout",
          "text": [
            "Creating..../data124/frame0.jpg\n",
            "Creating..../data124/frame500.jpg\n",
            "Creating..../data124/frame1000.jpg\n",
            "Creating..../data124/frame1500.jpg\n",
            "Creating..../data124/frame2000.jpg\n",
            "Creating..../data124/frame2500.jpg\n",
            "Creating..../data124/frame3000.jpg\n",
            "Creating..../data124/frame3500.jpg\n",
            "Creating..../data124/frame4000.jpg\n",
            "Creating..../data124/frame4500.jpg\n",
            "Creating..../data124/frame5000.jpg\n",
            "Creating..../data124/frame5500.jpg\n",
            "Creating..../data124/frame6000.jpg\n",
            "Creating..../data124/frame6500.jpg\n",
            "Creating..../data124/frame7000.jpg\n",
            "Creating..../data124/frame7500.jpg\n",
            "Creating..../data124/frame8000.jpg\n",
            "Creating..../data124/frame8500.jpg\n",
            "Creating..../data124/frame9000.jpg\n",
            "Creating..../data124/frame9500.jpg\n",
            "Creating..../data124/frame10000.jpg\n",
            "Creating..../data124/frame10500.jpg\n",
            "Creating..../data124/frame11000.jpg\n",
            "Creating..../data124/frame11500.jpg\n",
            "Creating..../data124/frame12000.jpg\n",
            "Creating..../data124/frame12500.jpg\n",
            "Creating..../data124/frame13000.jpg\n",
            "Creating..../data124/frame13500.jpg\n",
            "Creating..../data124/frame14000.jpg\n",
            "Creating..../data124/frame14500.jpg\n",
            "Creating..../data124/frame15000.jpg\n",
            "Creating..../data124/frame15500.jpg\n",
            "Creating..../data124/frame16000.jpg\n",
            "Creating..../data124/frame16500.jpg\n",
            "Creating..../data124/frame17000.jpg\n",
            "Creating..../data124/frame17500.jpg\n",
            "Creating..../data124/frame18000.jpg\n",
            "Creating..../data124/frame18500.jpg\n",
            "Creating..../data124/frame19000.jpg\n",
            "Creating..../data124/frame19500.jpg\n",
            "Creating..../data124/frame20000.jpg\n",
            "Creating..../data124/frame20500.jpg\n",
            "Creating..../data124/frame21000.jpg\n",
            "Creating..../data124/frame21500.jpg\n",
            "Creating..../data124/frame22000.jpg\n",
            "Creating..../data124/frame22500.jpg\n",
            "Creating..../data124/frame23000.jpg\n",
            "Creating..../data124/frame23500.jpg\n",
            "Creating..../data124/frame24000.jpg\n",
            "Creating..../data124/frame24500.jpg\n",
            "Creating..../data124/frame25000.jpg\n",
            "Creating..../data124/frame25500.jpg\n",
            "Creating..../data124/frame26000.jpg\n",
            "Creating..../data124/frame26500.jpg\n",
            "Creating..../data124/frame27000.jpg\n",
            "Creating..../data124/frame27500.jpg\n",
            "Creating..../data124/frame28000.jpg\n",
            "Creating..../data124/frame28500.jpg\n",
            "Creating..../data124/frame29000.jpg\n",
            "Creating..../data124/frame29500.jpg\n",
            "Creating..../data124/frame30000.jpg\n",
            "Creating..../data124/frame30500.jpg\n",
            "Creating..../data124/frame31000.jpg\n",
            "Creating..../data124/frame31500.jpg\n",
            "Creating..../data124/frame32000.jpg\n",
            "Creating..../data124/frame32500.jpg\n",
            "Creating..../data124/frame33000.jpg\n",
            "Creating..../data124/frame33500.jpg\n",
            "Creating..../data124/frame34000.jpg\n",
            "Creating..../data124/frame34500.jpg\n",
            "Creating..../data124/frame35000.jpg\n",
            "Creating..../data124/frame35500.jpg\n",
            "Creating..../data124/frame36000.jpg\n",
            "Creating..../data124/frame36500.jpg\n",
            "Creating..../data124/frame37000.jpg\n",
            "Creating..../data124/frame37500.jpg\n",
            "Creating..../data124/frame38000.jpg\n",
            "Creating..../data124/frame38500.jpg\n",
            "Creating..../data124/frame39000.jpg\n",
            "Creating..../data124/frame39500.jpg\n",
            "Creating..../data124/frame40000.jpg\n",
            "Creating..../data124/frame40500.jpg\n",
            "Creating..../data124/frame41000.jpg\n",
            "Creating..../data124/frame41500.jpg\n",
            "Creating..../data124/frame42000.jpg\n",
            "Creating..../data124/frame42500.jpg\n",
            "Creating..../data124/frame43000.jpg\n",
            "Creating..../data124/frame43500.jpg\n",
            "Creating..../data124/frame44000.jpg\n",
            "Creating..../data124/frame44500.jpg\n",
            "Creating..../data124/frame45000.jpg\n",
            "Creating..../data124/frame45500.jpg\n",
            "Creating..../data124/frame46000.jpg\n",
            "Creating..../data124/frame46500.jpg\n",
            "Creating..../data124/frame47000.jpg\n",
            "Creating..../data124/frame47500.jpg\n",
            "Creating..../data124/frame48000.jpg\n",
            "Creating..../data124/frame48500.jpg\n",
            "Creating..../data124/frame49000.jpg\n",
            "Creating..../data124/frame49500.jpg\n",
            "Creating..../data124/frame50000.jpg\n",
            "Creating..../data124/frame50500.jpg\n",
            "Creating..../data124/frame51000.jpg\n",
            "Creating..../data124/frame51500.jpg\n",
            "Creating..../data124/frame52000.jpg\n",
            "Creating..../data124/frame52500.jpg\n",
            "Creating..../data124/frame53000.jpg\n",
            "Creating..../data124/frame53500.jpg\n",
            "Creating..../data124/frame54000.jpg\n",
            "Creating..../data124/frame54500.jpg\n",
            "Creating..../data124/frame55000.jpg\n",
            "Creating..../data124/frame55500.jpg\n",
            "Creating..../data124/frame56000.jpg\n",
            "Creating..../data124/frame56500.jpg\n",
            "Creating..../data124/frame57000.jpg\n",
            "Creating..../data124/frame57500.jpg\n",
            "Creating..../data124/frame58000.jpg\n",
            "Creating..../data124/frame58500.jpg\n",
            "Creating..../data124/frame59000.jpg\n",
            "Creating..../data124/frame59500.jpg\n",
            "Creating..../data124/frame60000.jpg\n",
            "Creating..../data124/frame60500.jpg\n",
            "Creating..../data124/frame61000.jpg\n",
            "Creating..../data124/frame61500.jpg\n",
            "Creating..../data124/frame62000.jpg\n",
            "Creating..../data124/frame62500.jpg\n",
            "Creating..../data124/frame63000.jpg\n",
            "Creating..../data124/frame63500.jpg\n",
            "Creating..../data124/frame64000.jpg\n",
            "Creating..../data124/frame64500.jpg\n",
            "Creating..../data124/frame65000.jpg\n",
            "Creating..../data124/frame65500.jpg\n",
            "Creating..../data124/frame66000.jpg\n",
            "Creating..../data124/frame66500.jpg\n",
            "Creating..../data124/frame67000.jpg\n",
            "Creating..../data124/frame67500.jpg\n",
            "Creating..../data124/frame68000.jpg\n",
            "Creating..../data124/frame68500.jpg\n",
            "Creating..../data124/frame69000.jpg\n",
            "Creating..../data124/frame69500.jpg\n",
            "Creating..../data124/frame70000.jpg\n",
            "Creating..../data124/frame70500.jpg\n",
            "Creating..../data124/frame71000.jpg\n",
            "Creating..../data124/frame71500.jpg\n",
            "Creating..../data124/frame72000.jpg\n",
            "Creating..../data124/frame72500.jpg\n",
            "Creating..../data124/frame73000.jpg\n",
            "Creating..../data124/frame73500.jpg\n",
            "Creating..../data124/frame74000.jpg\n",
            "Creating..../data124/frame74500.jpg\n"
          ]
        }
      ]
    }
  ]
}